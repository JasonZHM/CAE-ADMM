{
 "cells": [
  {
   "cell_type": "code",
   "execution_count": 1,
   "metadata": {
    "collapsed": true
   },
   "outputs": [],
   "source": [
    "import torch\n",
    "import torch.nn as nn\n",
    "import numpy as np\n",
    "from model import CAEP\n",
    "from utils import Kodak\n",
    "from torchvision.utils import make_grid, save_image"
   ]
  },
  {
   "cell_type": "code",
   "execution_count": 111,
   "metadata": {
    "collapsed": false
   },
   "outputs": [
    {
     "name": "stdout",
     "output_type": "stream",
     "text": [
      "Number of GPUs available: 1"
     ]
    },
    {
     "name": "stdout",
     "output_type": "stream",
     "text": [
      "\n"
     ]
    },
    {
     "name": "stdout",
     "output_type": "stream",
     "text": [
      "Done Setup Model."
     ]
    },
    {
     "name": "stdout",
     "output_type": "stream",
     "text": [
      "\n"
     ]
    }
   ],
   "source": [
    "print('Number of GPUs available: ' + str(torch.cuda.device_count()))\n",
    "model = nn.DataParallel(CAEP(15).cuda())\n",
    "pretrained_state_dict = torch.load(f\"./chkpt/bpp_10_before_pruning/model.state\")\n",
    "current_state_dict = model.state_dict()\n",
    "current_state_dict.update(pretrained_state_dict)\n",
    "model.load_state_dict(current_state_dict)\n",
    "model.eval()\n",
    "print('Done Setup Model.')"
   ]
  },
  {
   "cell_type": "code",
   "execution_count": 112,
   "metadata": {},
   "outputs": [],
   "source": [
    "dataset = Kodak('./codevis/')"
   ]
  },
  {
   "cell_type": "code",
   "execution_count": 113,
   "metadata": {},
   "outputs": [],
   "source": [
    "img = dataset[0][0]\n",
    "patches = dataset[0][1]"
   ]
  },
  {
   "cell_type": "code",
   "execution_count": 114,
   "metadata": {},
   "outputs": [
    {
     "data": {
      "text/plain": [
       "torch.Size([6, 4, 3, 128, 128])"
      ]
     },
     "execution_count": 114,
     "metadata": {},
     "output_type": "execute_result"
    }
   ],
   "source": [
    "patches.shape"
   ]
  },
  {
   "cell_type": "code",
   "execution_count": 115,
   "metadata": {},
   "outputs": [],
   "source": [
    "stacki = []\n",
    "for i in range(6):\n",
    "    stackj = []\n",
    "    for j in range(4):\n",
    "        x = torch.Tensor(patches[i, j, :, :, :].unsqueeze(0)).cuda()\n",
    "        y, c = model(x)\n",
    "        stackj.append(c.squeeze(0).cpu().data)\n",
    "    stacki.append(torch.cat(stackj, dim=1))\n",
    "out = torch.cat(stacki, dim=2)\n",
    "out = out.unsqueeze(1)\n",
    "grid = make_grid(out, nrow=6, normalize=True)"
   ]
  },
  {
   "cell_type": "code",
   "execution_count": 23,
   "metadata": {},
   "outputs": [],
   "source": [
    "save_image(grid, './codevis/kodim23_code_before_pruning.png')"
   ]
  },
  {
   "cell_type": "code",
   "execution_count": 14,
   "metadata": {},
   "outputs": [],
   "source": [
    "save_image(torch.Tensor([[0, -1], [1, 0]]), './codevis/test.png')  # confirm that non-positives are black"
   ]
  },
  {
   "cell_type": "code",
   "execution_count": 79,
   "metadata": {},
   "outputs": [
    {
     "name": "stdout",
     "output_type": "stream",
     "text": [
      "Ratio of zero elements before pruning : 9.60%"
     ]
    },
    {
     "name": "stdout",
     "output_type": "stream",
     "text": [
      "\n"
     ]
    }
   ],
   "source": [
    "# ratio of zero elements before pruning\n",
    "r_before_p = torch.sum(out == 0).numpy() / torch.numel(out)\n",
    "print('Ratio of zero elements before pruning : %.2f%%' % (r_before_p * 100))"
   ]
  },
  {
   "cell_type": "code",
   "execution_count": 75,
   "metadata": {},
   "outputs": [
    {
     "name": "stdout",
     "output_type": "stream",
     "text": [
      "Ratio of zero elements after pruning : 21.51%"
     ]
    },
    {
     "name": "stdout",
     "output_type": "stream",
     "text": [
      "\n"
     ]
    }
   ],
   "source": [
    "# ratio of zero elements after pruning \n",
    "# Remind to change model checkpoint!!\n",
    "r_after_p = torch.sum(out == 0).numpy() / torch.numel(out)\n",
    "print('Ratio of zero elements after pruning : %.2f%%' % (r_after_p * 100))"
   ]
  },
  {
   "cell_type": "code",
   "execution_count": 80,
   "metadata": {},
   "outputs": [
    {
     "name": "stdout",
     "output_type": "stream",
     "text": [
      "The increased ratio of zeros : 124.07 %"
     ]
    },
    {
     "name": "stdout",
     "output_type": "stream",
     "text": [
      "\n"
     ]
    }
   ],
   "source": [
    "# the increased ratio of zeros\n",
    "relative_change = (r_after_p - r_before_p) / r_before_p\n",
    "print('The increased ratio of zeros : %.2f %%' % (relative_change * 100))"
   ]
  },
  {
   "cell_type": "code",
   "execution_count": 81,
   "metadata": {},
   "outputs": [
    {
     "name": "stdout",
     "output_type": "stream",
     "text": [
      "The decreased ratio of non-zeros : -13.18 %"
     ]
    },
    {
     "name": "stdout",
     "output_type": "stream",
     "text": [
      "\n"
     ]
    }
   ],
   "source": [
    "# the decreased ratio of non-zeros\n",
    "relative_change_non_zero = ((1 - r_after_p) - (1 - r_before_p)) / (1 - r_before_p)\n",
    "print('The decreased ratio of non-zeros : %.2f %%' % (relative_change_non_zero * 100))"
   ]
  },
  {
   "cell_type": "code",
   "execution_count": 116,
   "metadata": {},
   "outputs": [],
   "source": [
    "# mask those zero elements\n",
    "def norm_ip(img, min, max):\n",
    "    img.clamp_(min=min, max=max)\n",
    "    img.add_(-min).div_(max - min + 1e-5)\n",
    "\n",
    "\n",
    "def norm_range(t):\n",
    "    t = t.clone()\n",
    "    norm_ip(t, float(t.min()), float(t.max()))\n",
    "    return t\n",
    "        \n",
    "\n",
    "norm = norm_range(out)\n",
    "masked = norm.masked_fill_(out==0, 0)"
   ]
  },
  {
   "cell_type": "code",
   "execution_count": 117,
   "metadata": {},
   "outputs": [],
   "source": [
    "save_image(make_grid(masked, nrow=6), './codevis/kodim23_masked_code_before_pruning.png')"
   ]
  }
 ],
 "metadata": {
  "kernelspec": {
   "display_name": "Python 2",
   "language": "python",
   "name": "python2"
  },
  "language_info": {
   "codemirror_mode": {
    "name": "ipython",
    "version": 2
   },
   "file_extension": ".py",
   "mimetype": "text/x-python",
   "name": "python",
   "nbconvert_exporter": "python",
   "pygments_lexer": "ipython2",
   "version": "2.7.6"
  }
 },
 "nbformat": 4,
 "nbformat_minor": 0
}
