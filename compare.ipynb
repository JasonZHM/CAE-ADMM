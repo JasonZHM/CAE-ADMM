{
 "cells": [
  {
   "cell_type": "code",
   "execution_count": 1,
   "metadata": {
    "collapsed": true
   },
   "outputs": [],
   "source": [
    "import numpy as np\n",
    "from PIL import Image\n",
    "from skimage.io import imsave\n",
    "from os.path import getsize"
   ]
  },
  {
   "cell_type": "code",
   "execution_count": 2,
   "metadata": {},
   "outputs": [],
   "source": [
    "# Smoothing\n",
    "def lin_interp(n, p1, p2):\n",
    "    x = np.zeros((n, p1.shape[0], 128, 3))\n",
    "\n",
    "    for i in range(n):\n",
    "        a = (i + 1) / (n + 1)\n",
    "        x[i] = (1 - a) * p1 + a * p2\n",
    "\n",
    "    return x"
   ]
  },
  {
   "cell_type": "code",
   "execution_count": 4,
   "metadata": {},
   "outputs": [
    {
     "name": "stdout",
     "output_type": "stream",
     "text": [
      "(768, 1024, 3)\n"
     ]
    },
    {
     "name": "stderr",
     "output_type": "stream",
     "text": [
      "C:\\ProgramData\\Anaconda3\\lib\\site-packages\\skimage\\util\\dtype.py:130: UserWarning: Possible precision loss when converting from float64 to uint8\n  .format(dtypeobj_in, dtypeobj_out))\n"
     ]
    }
   ],
   "source": [
    "ws = 6\n",
    "in_img = np.array(Image.open('./compare/caep.png')) / 255.0\n",
    "orig_img = in_img[:, :512, :]\n",
    "in_img = in_img[:, 512:, :]\n",
    "\n",
    "patches = np.reshape(in_img, (6, 128, 4, 128, 3))\n",
    "patches = np.transpose(patches, (0, 2, 1, 3, 4))\n",
    "\n",
    "h = ws // 2\n",
    "\n",
    "for i in range(5):\n",
    "    p1 = patches[i, :, 128 - h, :, :]\n",
    "    p2 = patches[i + 1, :, h, :, :]\n",
    "\n",
    "    x = lin_interp(ws, p1, p2)\n",
    "    patches[i, :, 128 - h:, :, :] = np.transpose(x[:h, :, :, :], (1, 0, 2, 3))\n",
    "    patches[i + 1, :, :h, :, :] = np.transpose(x[h:, :, :, :], (1, 0, 2, 3))\n",
    "\n",
    "for j in range(3):\n",
    "    p3 = patches[:, j, :, 128 - h, :]\n",
    "    p4 = patches[:, j + 1, :, h, :]\n",
    "\n",
    "    x = lin_interp(ws, p3, p4)\n",
    "    patches[:, j, :, 128 - h:,\n",
    "            :] = np.transpose(x[:h, :, :, :], (1, 2, 0, 3))\n",
    "    patches[:, j + 1, :, :h,\n",
    "            :] = np.transpose(x[h:, :, :, :], (1, 2, 0, 3))\n",
    "\n",
    "out = np.transpose(patches, (0, 2, 1, 3, 4))\n",
    "out = np.reshape(out, (768, 512, 3))\n",
    "out = out[:, :, :]\n",
    "\n",
    "out = np.concatenate((orig_img, out), axis=1)\n",
    "print(out.shape)\n",
    "out = np.transpose(out, (1, 0, 2))\n",
    "imsave('./compare/smooth.png', out)\n"
   ]
  },
  {
   "cell_type": "code",
   "execution_count": 6,
   "metadata": {},
   "outputs": [
    {
     "name": "stdout",
     "output_type": "stream",
     "text": [
      "0.5065511067708334\n"
     ]
    }
   ],
   "source": [
    "jpeg = Image.open('./compare/kodim11.png')\n",
    "jpeg.save('./compare/jpeg.jpg', 'jpeg', quality=20)\n",
    "print(getsize('./compare/jpeg.jpg')*8/512/768)"
   ]
  },
  {
   "cell_type": "code",
   "execution_count": 11,
   "metadata": {},
   "outputs": [
    {
     "name": "stdout",
     "output_type": "stream",
     "text": [
      "0.4930216471354167\n"
     ]
    }
   ],
   "source": [
    "jpeg_2 = Image.open('./compare/kodim11.png')\n",
    "jpeg_2.save('./compare/jpeg2000.tiff', 'tiff')\n",
    "# use Kakadu: kdu_compress -i jpeg2000.tiff -o jpeg2000.jp2 -rate 0.3\n",
    "print(getsize('./compare/jpeg2000.jp2')*8/512/768)"
   ]
  },
  {
   "cell_type": "code",
   "execution_count": 12,
   "metadata": {},
   "outputs": [
    {
     "name": "stderr",
     "output_type": "stream",
     "text": [
      "C:\\ProgramData\\Anaconda3\\lib\\site-packages\\skimage\\util\\dtype.py:130: UserWarning: Possible precision loss when converting from float64 to uint8\n  .format(dtypeobj_in, dtypeobj_out))\n"
     ]
    }
   ],
   "source": [
    "cat = np.concatenate((Image.open('./compare/jpeg.jpg'), Image.open('./compare/jpeg2000.jp2')), axis=0)/255.\n",
    "cat = np.concatenate((out, cat), axis=1)\n",
    "imsave('./compare/cat.png', cat)"
   ]
  },
  {
   "cell_type": "code",
   "execution_count": null,
   "metadata": {},
   "outputs": [],
   "source": []
  }
 ],
 "metadata": {
  "kernelspec": {
   "display_name": "Python 2",
   "language": "python",
   "name": "python2"
  },
  "language_info": {
   "codemirror_mode": {
    "name": "ipython",
    "version": 2
   },
   "file_extension": ".py",
   "mimetype": "text/x-python",
   "name": "python",
   "nbconvert_exporter": "python",
   "pygments_lexer": "ipython2",
   "version": "2.7.6"
  }
 },
 "nbformat": 4,
 "nbformat_minor": 0
}
